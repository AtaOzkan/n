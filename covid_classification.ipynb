{
  "nbformat": 4,
  "nbformat_minor": 0,
  "metadata": {
    "colab": {
      "provenance": [],
      "authorship_tag": "ABX9TyObILZbdDWJC98f5RTTteWx",
      "include_colab_link": true
    },
    "kernelspec": {
      "name": "python3",
      "display_name": "Python 3"
    },
    "language_info": {
      "name": "python"
    }
  },
  "cells": [
    {
      "cell_type": "markdown",
      "metadata": {
        "id": "view-in-github",
        "colab_type": "text"
      },
      "source": [
        "<a href=\"https://colab.research.google.com/github/AtaOzkan/n/blob/main/covid_classification.ipynb\" target=\"_parent\"><img src=\"https://colab.research.google.com/assets/colab-badge.svg\" alt=\"Open In Colab\"/></a>"
      ]
    },
    {
      "cell_type": "code",
      "source": [
        "import tensorflow as tf\n",
        "from tensorflow.keras import preprocessing\n",
        "import matplotlib.pyplot as plt\n",
        "import numpy as np\n",
        "import sklearn\n",
        "from sklearn.metrics import confusion_matrix, roc_curve\n",
        "import seaborn as sns\n",
        "\n",
        "from tensorflow.keras.applications import EfficientNetB7\n",
        "from tensorflow.keras.layers import Dense, GlobalAveragePooling2D, BatchNormalization, InputLayer, RandomRotation, RandomFlip, RandomContrast, Input\n",
        "from tensorflow.keras.models import Model,Sequential\n",
        "from tensorflow.keras.callbacks import ModelCheckpoint\n",
        "from tensorflow.keras.losses import CategoricalCrossentropy\n",
        "from tensorflow.keras.metrics import Accuracy, CategoricalAccuracy"
      ],
      "metadata": {
        "id": "MpwyvrugET22"
      },
      "execution_count": null,
      "outputs": []
    },
    {
      "cell_type": "markdown",
      "source": [
        "# ***DATASET DOWNLOADING***"
      ],
      "metadata": {
        "id": "wZBgBruTwZN8"
      }
    },
    {
      "cell_type": "code",
      "execution_count": null,
      "metadata": {
        "id": "7i7_VoZ4DO70"
      },
      "outputs": [],
      "source": [
        "!pip install -q kaggle"
      ]
    },
    {
      "cell_type": "code",
      "source": [
        "! mkdir ~/.kaggle\n",
        "! cp kaggle.json ~/.kaggle/"
      ],
      "metadata": {
        "id": "WiuEXEl3DXtX"
      },
      "execution_count": null,
      "outputs": []
    },
    {
      "cell_type": "code",
      "source": [
        "!chmod 600 /root/.kaggle/kaggle.json"
      ],
      "metadata": {
        "id": "GkdMNTkGDhpO"
      },
      "execution_count": null,
      "outputs": []
    },
    {
      "cell_type": "code",
      "source": [
        "!kaggle datasets download -d pranavraikokte/covid19-image-dataset"
      ],
      "metadata": {
        "colab": {
          "base_uri": "https://localhost:8080/"
        },
        "id": "DmfOU2qZDiFw",
        "outputId": "64f04dd3-8ec8-4d00-ef10-06d5094d8431"
      },
      "execution_count": null,
      "outputs": [
        {
          "output_type": "stream",
          "name": "stdout",
          "text": [
            "Dataset URL: https://www.kaggle.com/datasets/pranavraikokte/covid19-image-dataset\n",
            "License(s): CC-BY-SA-4.0\n",
            "Downloading covid19-image-dataset.zip to /content\n",
            " 87% 137M/158M [00:01<00:00, 110MB/s]\n",
            "100% 158M/158M [00:01<00:00, 115MB/s]\n"
          ]
        }
      ]
    },
    {
      "cell_type": "code",
      "source": [
        "!unzip \"/content/covid19-image-dataset.zip\" -d \"/content/covid19-image-dataset\""
      ],
      "metadata": {
        "colab": {
          "base_uri": "https://localhost:8080/"
        },
        "collapsed": true,
        "id": "P8mPwX9pDonT",
        "outputId": "a3aab585-da75-4a26-9bf7-5c519b104a53"
      },
      "execution_count": null,
      "outputs": [
        {
          "output_type": "stream",
          "name": "stdout",
          "text": [
            "Archive:  /content/covid19-image-dataset.zip\n",
            "  inflating: /content/covid19-image-dataset/Covid19-dataset/test/Covid/0100.jpeg  \n",
            "  inflating: /content/covid19-image-dataset/Covid19-dataset/test/Covid/0102.jpeg  \n",
            "  inflating: /content/covid19-image-dataset/Covid19-dataset/test/Covid/0105.png  \n",
            "  inflating: /content/covid19-image-dataset/Covid19-dataset/test/Covid/0106.jpeg  \n",
            "  inflating: /content/covid19-image-dataset/Covid19-dataset/test/Covid/0108.jpeg  \n",
            "  inflating: /content/covid19-image-dataset/Covid19-dataset/test/Covid/0111.jpg  \n",
            "  inflating: /content/covid19-image-dataset/Covid19-dataset/test/Covid/0112.jpg  \n",
            "  inflating: /content/covid19-image-dataset/Covid19-dataset/test/Covid/0113.jpg  \n",
            "  inflating: /content/covid19-image-dataset/Covid19-dataset/test/Covid/0115.jpeg  \n",
            "  inflating: /content/covid19-image-dataset/Covid19-dataset/test/Covid/0118.jpeg  \n",
            "  inflating: /content/covid19-image-dataset/Covid19-dataset/test/Covid/0119.jpeg  \n",
            "  inflating: /content/covid19-image-dataset/Covid19-dataset/test/Covid/0120.jpg  \n",
            "  inflating: /content/covid19-image-dataset/Covid19-dataset/test/Covid/094.png  \n",
            "  inflating: /content/covid19-image-dataset/Covid19-dataset/test/Covid/096.png  \n",
            "  inflating: /content/covid19-image-dataset/Covid19-dataset/test/Covid/098.jpeg  \n",
            "  inflating: /content/covid19-image-dataset/Covid19-dataset/test/Covid/COVID-00003b.jpg  \n",
            "  inflating: /content/covid19-image-dataset/Covid19-dataset/test/Covid/COVID-00012.jpg  \n",
            "  inflating: /content/covid19-image-dataset/Covid19-dataset/test/Covid/COVID-00022.jpg  \n",
            "  inflating: /content/covid19-image-dataset/Covid19-dataset/test/Covid/COVID-00033.jpg  \n",
            "  inflating: /content/covid19-image-dataset/Covid19-dataset/test/Covid/COVID-00037.jpg  \n",
            "  inflating: /content/covid19-image-dataset/Covid19-dataset/test/Covid/auntminnie-2020_01_31_20_24_2322_2020_01_31_x-ray_coronavirus_US.jpg  \n",
            "  inflating: /content/covid19-image-dataset/Covid19-dataset/test/Covid/auntminnie-a-2020_01_28_23_51_6665_2020_01_28_Vietnam_coronavirus.jpeg  \n",
            "  inflating: /content/covid19-image-dataset/Covid19-dataset/test/Covid/auntminnie-b-2020_01_28_23_51_6665_2020_01_28_Vietnam_coronavirus.jpeg  \n",
            "  inflating: /content/covid19-image-dataset/Covid19-dataset/test/Covid/auntminnie-c-2020_01_28_23_51_6665_2020_01_28_Vietnam_coronavirus.jpeg  \n",
            "  inflating: /content/covid19-image-dataset/Covid19-dataset/test/Covid/auntminnie-d-2020_01_28_23_51_6665_2020_01_28_Vietnam_coronavirus.jpeg  \n",
            "  inflating: /content/covid19-image-dataset/Covid19-dataset/test/Covid/radiopaedia-2019-novel-coronavirus-infected-pneumonia.jpg  \n",
            "  inflating: /content/covid19-image-dataset/Covid19-dataset/test/Normal/0101.jpeg  \n",
            "  inflating: /content/covid19-image-dataset/Covid19-dataset/test/Normal/0102.jpeg  \n",
            "  inflating: /content/covid19-image-dataset/Covid19-dataset/test/Normal/0103.jpeg  \n",
            "  inflating: /content/covid19-image-dataset/Covid19-dataset/test/Normal/0105.jpeg  \n",
            "  inflating: /content/covid19-image-dataset/Covid19-dataset/test/Normal/0106.jpeg  \n",
            "  inflating: /content/covid19-image-dataset/Covid19-dataset/test/Normal/0107.jpeg  \n",
            "  inflating: /content/covid19-image-dataset/Covid19-dataset/test/Normal/0108.jpeg  \n",
            "  inflating: /content/covid19-image-dataset/Covid19-dataset/test/Normal/0109.jpeg  \n",
            "  inflating: /content/covid19-image-dataset/Covid19-dataset/test/Normal/0110.jpeg  \n",
            "  inflating: /content/covid19-image-dataset/Covid19-dataset/test/Normal/0111.jpeg  \n",
            "  inflating: /content/covid19-image-dataset/Covid19-dataset/test/Normal/0112.jpeg  \n",
            "  inflating: /content/covid19-image-dataset/Covid19-dataset/test/Normal/0114.jpeg  \n",
            "  inflating: /content/covid19-image-dataset/Covid19-dataset/test/Normal/0115.jpeg  \n",
            "  inflating: /content/covid19-image-dataset/Covid19-dataset/test/Normal/0116.jpeg  \n",
            "  inflating: /content/covid19-image-dataset/Covid19-dataset/test/Normal/0117.jpeg  \n",
            "  inflating: /content/covid19-image-dataset/Covid19-dataset/test/Normal/0118.jpeg  \n",
            "  inflating: /content/covid19-image-dataset/Covid19-dataset/test/Normal/0119.jpeg  \n",
            "  inflating: /content/covid19-image-dataset/Covid19-dataset/test/Normal/0120.jpeg  \n",
            "  inflating: /content/covid19-image-dataset/Covid19-dataset/test/Normal/0121.jpeg  \n",
            "  inflating: /content/covid19-image-dataset/Covid19-dataset/test/Normal/0122.jpeg  \n",
            "  inflating: /content/covid19-image-dataset/Covid19-dataset/test/Viral Pneumonia/0101.jpeg  \n",
            "  inflating: /content/covid19-image-dataset/Covid19-dataset/test/Viral Pneumonia/0102.jpeg  \n",
            "  inflating: /content/covid19-image-dataset/Covid19-dataset/test/Viral Pneumonia/0103.jpeg  \n",
            "  inflating: /content/covid19-image-dataset/Covid19-dataset/test/Viral Pneumonia/0104.jpeg  \n",
            "  inflating: /content/covid19-image-dataset/Covid19-dataset/test/Viral Pneumonia/0105.jpeg  \n",
            "  inflating: /content/covid19-image-dataset/Covid19-dataset/test/Viral Pneumonia/0106.jpeg  \n",
            "  inflating: /content/covid19-image-dataset/Covid19-dataset/test/Viral Pneumonia/0107.jpeg  \n",
            "  inflating: /content/covid19-image-dataset/Covid19-dataset/test/Viral Pneumonia/0108.jpeg  \n",
            "  inflating: /content/covid19-image-dataset/Covid19-dataset/test/Viral Pneumonia/0109.jpeg  \n",
            "  inflating: /content/covid19-image-dataset/Covid19-dataset/test/Viral Pneumonia/0110.jpeg  \n",
            "  inflating: /content/covid19-image-dataset/Covid19-dataset/test/Viral Pneumonia/0111.jpeg  \n",
            "  inflating: /content/covid19-image-dataset/Covid19-dataset/test/Viral Pneumonia/0112.jpeg  \n",
            "  inflating: /content/covid19-image-dataset/Covid19-dataset/test/Viral Pneumonia/0113.jpeg  \n",
            "  inflating: /content/covid19-image-dataset/Covid19-dataset/test/Viral Pneumonia/0114.jpeg  \n",
            "  inflating: /content/covid19-image-dataset/Covid19-dataset/test/Viral Pneumonia/0115.jpeg  \n",
            "  inflating: /content/covid19-image-dataset/Covid19-dataset/test/Viral Pneumonia/0116.jpeg  \n",
            "  inflating: /content/covid19-image-dataset/Covid19-dataset/test/Viral Pneumonia/0117.jpeg  \n",
            "  inflating: /content/covid19-image-dataset/Covid19-dataset/test/Viral Pneumonia/0118.jpeg  \n",
            "  inflating: /content/covid19-image-dataset/Covid19-dataset/test/Viral Pneumonia/0119.jpeg  \n",
            "  inflating: /content/covid19-image-dataset/Covid19-dataset/test/Viral Pneumonia/0120.jpeg  \n",
            "  inflating: /content/covid19-image-dataset/Covid19-dataset/train/Covid/01.jpeg  \n",
            "  inflating: /content/covid19-image-dataset/Covid19-dataset/train/Covid/010.png  \n",
            "  inflating: /content/covid19-image-dataset/Covid19-dataset/train/Covid/012.jpeg  \n",
            "  inflating: /content/covid19-image-dataset/Covid19-dataset/train/Covid/015.jpg  \n",
            "  inflating: /content/covid19-image-dataset/Covid19-dataset/train/Covid/019.png  \n",
            "  inflating: /content/covid19-image-dataset/Covid19-dataset/train/Covid/02.jpeg  \n",
            "  inflating: /content/covid19-image-dataset/Covid19-dataset/train/Covid/020.jpg  \n",
            "  inflating: /content/covid19-image-dataset/Covid19-dataset/train/Covid/021.jpeg  \n",
            "  inflating: /content/covid19-image-dataset/Covid19-dataset/train/Covid/022.jpeg  \n",
            "  inflating: /content/covid19-image-dataset/Covid19-dataset/train/Covid/024.jpeg  \n",
            "  inflating: /content/covid19-image-dataset/Covid19-dataset/train/Covid/025.jpeg  \n",
            "  inflating: /content/covid19-image-dataset/Covid19-dataset/train/Covid/026.jpeg  \n",
            "  inflating: /content/covid19-image-dataset/Covid19-dataset/train/Covid/027.jpeg  \n",
            "  inflating: /content/covid19-image-dataset/Covid19-dataset/train/Covid/03.jpeg  \n",
            "  inflating: /content/covid19-image-dataset/Covid19-dataset/train/Covid/031.jpeg  \n",
            "  inflating: /content/covid19-image-dataset/Covid19-dataset/train/Covid/032.jpeg  \n",
            "  inflating: /content/covid19-image-dataset/Covid19-dataset/train/Covid/033.png  \n",
            "  inflating: /content/covid19-image-dataset/Covid19-dataset/train/Covid/039.jpeg  \n",
            "  inflating: /content/covid19-image-dataset/Covid19-dataset/train/Covid/04.png  \n",
            "  inflating: /content/covid19-image-dataset/Covid19-dataset/train/Covid/040.jpeg  \n",
            "  inflating: /content/covid19-image-dataset/Covid19-dataset/train/Covid/041.jpeg  \n",
            "  inflating: /content/covid19-image-dataset/Covid19-dataset/train/Covid/042.jpeg  \n",
            "  inflating: /content/covid19-image-dataset/Covid19-dataset/train/Covid/043.jpeg  \n",
            "  inflating: /content/covid19-image-dataset/Covid19-dataset/train/Covid/044.jpeg  \n",
            "  inflating: /content/covid19-image-dataset/Covid19-dataset/train/Covid/045.jpeg  \n",
            "  inflating: /content/covid19-image-dataset/Covid19-dataset/train/Covid/046.jpeg  \n",
            "  inflating: /content/covid19-image-dataset/Covid19-dataset/train/Covid/047.jpeg  \n",
            "  inflating: /content/covid19-image-dataset/Covid19-dataset/train/Covid/048.jpeg  \n",
            "  inflating: /content/covid19-image-dataset/Covid19-dataset/train/Covid/049.jpeg  \n",
            "  inflating: /content/covid19-image-dataset/Covid19-dataset/train/Covid/050.jpeg  \n",
            "  inflating: /content/covid19-image-dataset/Covid19-dataset/train/Covid/051.jpeg  \n",
            "  inflating: /content/covid19-image-dataset/Covid19-dataset/train/Covid/052.jpeg  \n",
            "  inflating: /content/covid19-image-dataset/Covid19-dataset/train/Covid/053.jpeg  \n",
            "  inflating: /content/covid19-image-dataset/Covid19-dataset/train/Covid/054.jpeg  \n",
            "  inflating: /content/covid19-image-dataset/Covid19-dataset/train/Covid/055.jpeg  \n",
            "  inflating: /content/covid19-image-dataset/Covid19-dataset/train/Covid/056.jpg  \n",
            "  inflating: /content/covid19-image-dataset/Covid19-dataset/train/Covid/057.jpeg  \n",
            "  inflating: /content/covid19-image-dataset/Covid19-dataset/train/Covid/058.jpeg  \n",
            "  inflating: /content/covid19-image-dataset/Covid19-dataset/train/Covid/059.jpeg  \n",
            "  inflating: /content/covid19-image-dataset/Covid19-dataset/train/Covid/06.jpeg  \n",
            "  inflating: /content/covid19-image-dataset/Covid19-dataset/train/Covid/060.jpeg  \n",
            "  inflating: /content/covid19-image-dataset/Covid19-dataset/train/Covid/061.jpg  \n",
            "  inflating: /content/covid19-image-dataset/Covid19-dataset/train/Covid/062.jpeg  \n",
            "  inflating: /content/covid19-image-dataset/Covid19-dataset/train/Covid/064.jpg  \n",
            "  inflating: /content/covid19-image-dataset/Covid19-dataset/train/Covid/065.jpeg  \n",
            "  inflating: /content/covid19-image-dataset/Covid19-dataset/train/Covid/067.jpg  \n",
            "  inflating: /content/covid19-image-dataset/Covid19-dataset/train/Covid/068.jpg  \n",
            "  inflating: /content/covid19-image-dataset/Covid19-dataset/train/Covid/069.jpg  \n",
            "  inflating: /content/covid19-image-dataset/Covid19-dataset/train/Covid/07.jpg  \n",
            "  inflating: /content/covid19-image-dataset/Covid19-dataset/train/Covid/071.jpg  \n",
            "  inflating: /content/covid19-image-dataset/Covid19-dataset/train/Covid/072.jpeg  \n",
            "  inflating: /content/covid19-image-dataset/Covid19-dataset/train/Covid/073.jpg  \n",
            "  inflating: /content/covid19-image-dataset/Covid19-dataset/train/Covid/074.jpg  \n",
            "  inflating: /content/covid19-image-dataset/Covid19-dataset/train/Covid/076.jpg  \n",
            "  inflating: /content/covid19-image-dataset/Covid19-dataset/train/Covid/078.jpeg  \n",
            "  inflating: /content/covid19-image-dataset/Covid19-dataset/train/Covid/079.jpeg  \n",
            "  inflating: /content/covid19-image-dataset/Covid19-dataset/train/Covid/08.jpeg  \n",
            "  inflating: /content/covid19-image-dataset/Covid19-dataset/train/Covid/080.jpg  \n",
            "  inflating: /content/covid19-image-dataset/Covid19-dataset/train/Covid/081.jpeg  \n",
            "  inflating: /content/covid19-image-dataset/Covid19-dataset/train/Covid/082.jpg  \n",
            "  inflating: /content/covid19-image-dataset/Covid19-dataset/train/Covid/083.jpeg  \n",
            "  inflating: /content/covid19-image-dataset/Covid19-dataset/train/Covid/084.jpeg  \n",
            "  inflating: /content/covid19-image-dataset/Covid19-dataset/train/Covid/085.jpeg  \n",
            "  inflating: /content/covid19-image-dataset/Covid19-dataset/train/Covid/086.jpg  \n",
            "  inflating: /content/covid19-image-dataset/Covid19-dataset/train/Covid/088.jpeg  \n",
            "  inflating: /content/covid19-image-dataset/Covid19-dataset/train/Covid/089.jpg  \n",
            "  inflating: /content/covid19-image-dataset/Covid19-dataset/train/Covid/09.png  \n",
            "  inflating: /content/covid19-image-dataset/Covid19-dataset/train/Covid/090.jpeg  \n",
            "  inflating: /content/covid19-image-dataset/Covid19-dataset/train/Covid/091.jpg  \n",
            "  inflating: /content/covid19-image-dataset/Covid19-dataset/train/Covid/092.png  \n",
            "  inflating: /content/covid19-image-dataset/Covid19-dataset/train/Covid/COVID-00001.jpg  \n",
            "  inflating: /content/covid19-image-dataset/Covid19-dataset/train/Covid/COVID-00002.jpg  \n",
            "  inflating: /content/covid19-image-dataset/Covid19-dataset/train/Covid/COVID-00003a.jpg  \n",
            "  inflating: /content/covid19-image-dataset/Covid19-dataset/train/Covid/COVID-00003b.jpg  \n",
            "  inflating: /content/covid19-image-dataset/Covid19-dataset/train/Covid/COVID-00004.jpg  \n",
            "  inflating: /content/covid19-image-dataset/Covid19-dataset/train/Covid/COVID-00005.jpg  \n",
            "  inflating: /content/covid19-image-dataset/Covid19-dataset/train/Covid/COVID-00006.jpg  \n",
            "  inflating: /content/covid19-image-dataset/Covid19-dataset/train/Covid/COVID-00007.jpg  \n",
            "  inflating: /content/covid19-image-dataset/Covid19-dataset/train/Covid/COVID-00008.jpg  \n",
            "  inflating: /content/covid19-image-dataset/Covid19-dataset/train/Covid/COVID-00009.jpg  \n",
            "  inflating: /content/covid19-image-dataset/Covid19-dataset/train/Covid/COVID-00010.jpg  \n",
            "  inflating: /content/covid19-image-dataset/Covid19-dataset/train/Covid/COVID-00011.jpg  \n",
            "  inflating: /content/covid19-image-dataset/Covid19-dataset/train/Covid/COVID-00012.jpg  \n",
            "  inflating: /content/covid19-image-dataset/Covid19-dataset/train/Covid/COVID-00013a.jpg  \n",
            "  inflating: /content/covid19-image-dataset/Covid19-dataset/train/Covid/COVID-00013b.jpg  \n",
            "  inflating: /content/covid19-image-dataset/Covid19-dataset/train/Covid/COVID-00014.jpg  \n",
            "  inflating: /content/covid19-image-dataset/Covid19-dataset/train/Covid/COVID-00015a.png  \n",
            "  inflating: /content/covid19-image-dataset/Covid19-dataset/train/Covid/COVID-00015b.png  \n",
            "  inflating: /content/covid19-image-dataset/Covid19-dataset/train/Covid/COVID-00016.jpg  \n",
            "  inflating: /content/covid19-image-dataset/Covid19-dataset/train/Covid/COVID-00017.jpg  \n",
            "  inflating: /content/covid19-image-dataset/Covid19-dataset/train/Covid/COVID-00018.jpg  \n",
            "  inflating: /content/covid19-image-dataset/Covid19-dataset/train/Covid/COVID-00019.jpg  \n",
            "  inflating: /content/covid19-image-dataset/Covid19-dataset/train/Covid/COVID-00020.jpg  \n",
            "  inflating: /content/covid19-image-dataset/Covid19-dataset/train/Covid/COVID-00021.jpg  \n",
            "  inflating: /content/covid19-image-dataset/Covid19-dataset/train/Covid/COVID-00022.jpg  \n",
            "  inflating: /content/covid19-image-dataset/Covid19-dataset/train/Covid/COVID-00023.jpg  \n",
            "  inflating: /content/covid19-image-dataset/Covid19-dataset/train/Covid/COVID-00024.jpg  \n",
            "  inflating: /content/covid19-image-dataset/Covid19-dataset/train/Covid/COVID-00025.jpg  \n",
            "  inflating: /content/covid19-image-dataset/Covid19-dataset/train/Covid/COVID-00026.jpg  \n",
            "  inflating: /content/covid19-image-dataset/Covid19-dataset/train/Covid/COVID-00027.jpg  \n",
            "  inflating: /content/covid19-image-dataset/Covid19-dataset/train/Covid/COVID-00028.jpg  \n",
            "  inflating: /content/covid19-image-dataset/Covid19-dataset/train/Covid/COVID-00029.jpg  \n",
            "  inflating: /content/covid19-image-dataset/Covid19-dataset/train/Covid/COVID-00030.jpg  \n",
            "  inflating: /content/covid19-image-dataset/Covid19-dataset/train/Covid/COVID-00031.jpg  \n",
            "  inflating: /content/covid19-image-dataset/Covid19-dataset/train/Covid/COVID-00032.jpg  \n",
            "  inflating: /content/covid19-image-dataset/Covid19-dataset/train/Covid/COVID-00033.jpg  \n",
            "  inflating: /content/covid19-image-dataset/Covid19-dataset/train/Covid/COVID-00034.jpg  \n",
            "  inflating: /content/covid19-image-dataset/Covid19-dataset/train/Covid/COVID-00035.jpg  \n",
            "  inflating: /content/covid19-image-dataset/Covid19-dataset/train/Covid/COVID-00036.jpg  \n",
            "  inflating: /content/covid19-image-dataset/Covid19-dataset/train/Covid/COVID-00037.jpg  \n",
            "  inflating: /content/covid19-image-dataset/Covid19-dataset/train/Covid/COVID-00038.jpg  \n",
            "  inflating: /content/covid19-image-dataset/Covid19-dataset/train/Normal/01.jpeg  \n",
            "  inflating: /content/covid19-image-dataset/Covid19-dataset/train/Normal/010.jpeg  \n",
            "  inflating: /content/covid19-image-dataset/Covid19-dataset/train/Normal/011.jpeg  \n",
            "  inflating: /content/covid19-image-dataset/Covid19-dataset/train/Normal/012.jpeg  \n",
            "  inflating: /content/covid19-image-dataset/Covid19-dataset/train/Normal/013.jpeg  \n",
            "  inflating: /content/covid19-image-dataset/Covid19-dataset/train/Normal/014.jpeg  \n",
            "  inflating: /content/covid19-image-dataset/Covid19-dataset/train/Normal/015.jpeg  \n",
            "  inflating: /content/covid19-image-dataset/Covid19-dataset/train/Normal/016.jpeg  \n",
            "  inflating: /content/covid19-image-dataset/Covid19-dataset/train/Normal/017.jpeg  \n",
            "  inflating: /content/covid19-image-dataset/Covid19-dataset/train/Normal/018.jpeg  \n",
            "  inflating: /content/covid19-image-dataset/Covid19-dataset/train/Normal/019.jpeg  \n",
            "  inflating: /content/covid19-image-dataset/Covid19-dataset/train/Normal/02.jpeg  \n",
            "  inflating: /content/covid19-image-dataset/Covid19-dataset/train/Normal/020.jpeg  \n",
            "  inflating: /content/covid19-image-dataset/Covid19-dataset/train/Normal/021.jpeg  \n",
            "  inflating: /content/covid19-image-dataset/Covid19-dataset/train/Normal/022.jpeg  \n",
            "  inflating: /content/covid19-image-dataset/Covid19-dataset/train/Normal/023.jpeg  \n",
            "  inflating: /content/covid19-image-dataset/Covid19-dataset/train/Normal/024.jpeg  \n",
            "  inflating: /content/covid19-image-dataset/Covid19-dataset/train/Normal/025.jpeg  \n",
            "  inflating: /content/covid19-image-dataset/Covid19-dataset/train/Normal/03.jpeg  \n",
            "  inflating: /content/covid19-image-dataset/Covid19-dataset/train/Normal/04.jpeg  \n",
            "  inflating: /content/covid19-image-dataset/Covid19-dataset/train/Normal/05.jpeg  \n",
            "  inflating: /content/covid19-image-dataset/Covid19-dataset/train/Normal/050.jpeg  \n",
            "  inflating: /content/covid19-image-dataset/Covid19-dataset/train/Normal/051.jpeg  \n",
            "  inflating: /content/covid19-image-dataset/Covid19-dataset/train/Normal/052.jpeg  \n",
            "  inflating: /content/covid19-image-dataset/Covid19-dataset/train/Normal/053.jpeg  \n",
            "  inflating: /content/covid19-image-dataset/Covid19-dataset/train/Normal/054.jpeg  \n",
            "  inflating: /content/covid19-image-dataset/Covid19-dataset/train/Normal/055.jpeg  \n",
            "  inflating: /content/covid19-image-dataset/Covid19-dataset/train/Normal/056.jpeg  \n",
            "  inflating: /content/covid19-image-dataset/Covid19-dataset/train/Normal/057.jpeg  \n",
            "  inflating: /content/covid19-image-dataset/Covid19-dataset/train/Normal/058.jpeg  \n",
            "  inflating: /content/covid19-image-dataset/Covid19-dataset/train/Normal/059.jpeg  \n",
            "  inflating: /content/covid19-image-dataset/Covid19-dataset/train/Normal/06.jpeg  \n",
            "  inflating: /content/covid19-image-dataset/Covid19-dataset/train/Normal/060.jpeg  \n",
            "  inflating: /content/covid19-image-dataset/Covid19-dataset/train/Normal/061.jpeg  \n",
            "  inflating: /content/covid19-image-dataset/Covid19-dataset/train/Normal/062.jpeg  \n",
            "  inflating: /content/covid19-image-dataset/Covid19-dataset/train/Normal/063.jpeg  \n",
            "  inflating: /content/covid19-image-dataset/Covid19-dataset/train/Normal/064.jpeg  \n",
            "  inflating: /content/covid19-image-dataset/Covid19-dataset/train/Normal/065.jpeg  \n",
            "  inflating: /content/covid19-image-dataset/Covid19-dataset/train/Normal/066.jpeg  \n",
            "  inflating: /content/covid19-image-dataset/Covid19-dataset/train/Normal/067.jpeg  \n",
            "  inflating: /content/covid19-image-dataset/Covid19-dataset/train/Normal/068.jpeg  \n",
            "  inflating: /content/covid19-image-dataset/Covid19-dataset/train/Normal/069.jpeg  \n",
            "  inflating: /content/covid19-image-dataset/Covid19-dataset/train/Normal/07.jpeg  \n",
            "  inflating: /content/covid19-image-dataset/Covid19-dataset/train/Normal/070.jpeg  \n",
            "  inflating: /content/covid19-image-dataset/Covid19-dataset/train/Normal/071.jpeg  \n",
            "  inflating: /content/covid19-image-dataset/Covid19-dataset/train/Normal/072.jpeg  \n",
            "  inflating: /content/covid19-image-dataset/Covid19-dataset/train/Normal/073.jpeg  \n",
            "  inflating: /content/covid19-image-dataset/Covid19-dataset/train/Normal/074.jpeg  \n",
            "  inflating: /content/covid19-image-dataset/Covid19-dataset/train/Normal/075.jpeg  \n",
            "  inflating: /content/covid19-image-dataset/Covid19-dataset/train/Normal/076.jpeg  \n",
            "  inflating: /content/covid19-image-dataset/Covid19-dataset/train/Normal/077.jpeg  \n",
            "  inflating: /content/covid19-image-dataset/Covid19-dataset/train/Normal/079.jpeg  \n",
            "  inflating: /content/covid19-image-dataset/Covid19-dataset/train/Normal/08.jpeg  \n",
            "  inflating: /content/covid19-image-dataset/Covid19-dataset/train/Normal/080.jpeg  \n",
            "  inflating: /content/covid19-image-dataset/Covid19-dataset/train/Normal/081.jpeg  \n",
            "  inflating: /content/covid19-image-dataset/Covid19-dataset/train/Normal/082.jpeg  \n",
            "  inflating: /content/covid19-image-dataset/Covid19-dataset/train/Normal/083.jpeg  \n",
            "  inflating: /content/covid19-image-dataset/Covid19-dataset/train/Normal/084.jpeg  \n",
            "  inflating: /content/covid19-image-dataset/Covid19-dataset/train/Normal/085.jpeg  \n",
            "  inflating: /content/covid19-image-dataset/Covid19-dataset/train/Normal/086.jpeg  \n",
            "  inflating: /content/covid19-image-dataset/Covid19-dataset/train/Normal/087.jpeg  \n",
            "  inflating: /content/covid19-image-dataset/Covid19-dataset/train/Normal/088.jpeg  \n",
            "  inflating: /content/covid19-image-dataset/Covid19-dataset/train/Normal/09.jpeg  \n",
            "  inflating: /content/covid19-image-dataset/Covid19-dataset/train/Normal/091.jpeg  \n",
            "  inflating: /content/covid19-image-dataset/Covid19-dataset/train/Normal/092.jpeg  \n",
            "  inflating: /content/covid19-image-dataset/Covid19-dataset/train/Normal/093.jpeg  \n",
            "  inflating: /content/covid19-image-dataset/Covid19-dataset/train/Normal/094.jpeg  \n",
            "  inflating: /content/covid19-image-dataset/Covid19-dataset/train/Normal/095.jpeg  \n",
            "  inflating: /content/covid19-image-dataset/Covid19-dataset/train/Normal/096.jpeg  \n",
            "  inflating: /content/covid19-image-dataset/Covid19-dataset/train/Normal/097.jpeg  \n",
            "  inflating: /content/covid19-image-dataset/Covid19-dataset/train/Viral Pneumonia/01.jpeg  \n",
            "  inflating: /content/covid19-image-dataset/Covid19-dataset/train/Viral Pneumonia/010.jpeg  \n",
            "  inflating: /content/covid19-image-dataset/Covid19-dataset/train/Viral Pneumonia/011.jpeg  \n",
            "  inflating: /content/covid19-image-dataset/Covid19-dataset/train/Viral Pneumonia/012.jpeg  \n",
            "  inflating: /content/covid19-image-dataset/Covid19-dataset/train/Viral Pneumonia/013.jpeg  \n",
            "  inflating: /content/covid19-image-dataset/Covid19-dataset/train/Viral Pneumonia/016.jpeg  \n",
            "  inflating: /content/covid19-image-dataset/Covid19-dataset/train/Viral Pneumonia/018.jpeg  \n",
            "  inflating: /content/covid19-image-dataset/Covid19-dataset/train/Viral Pneumonia/019.jpeg  \n",
            "  inflating: /content/covid19-image-dataset/Covid19-dataset/train/Viral Pneumonia/02.jpeg  \n",
            "  inflating: /content/covid19-image-dataset/Covid19-dataset/train/Viral Pneumonia/020.jpeg  \n",
            "  inflating: /content/covid19-image-dataset/Covid19-dataset/train/Viral Pneumonia/021.jpeg  \n",
            "  inflating: /content/covid19-image-dataset/Covid19-dataset/train/Viral Pneumonia/022.jpeg  \n",
            "  inflating: /content/covid19-image-dataset/Covid19-dataset/train/Viral Pneumonia/023.jpeg  \n",
            "  inflating: /content/covid19-image-dataset/Covid19-dataset/train/Viral Pneumonia/024.jpeg  \n",
            "  inflating: /content/covid19-image-dataset/Covid19-dataset/train/Viral Pneumonia/025.jpeg  \n",
            "  inflating: /content/covid19-image-dataset/Covid19-dataset/train/Viral Pneumonia/027.jpeg  \n",
            "  inflating: /content/covid19-image-dataset/Covid19-dataset/train/Viral Pneumonia/03.jpeg  \n",
            "  inflating: /content/covid19-image-dataset/Covid19-dataset/train/Viral Pneumonia/031.jpeg  \n",
            "  inflating: /content/covid19-image-dataset/Covid19-dataset/train/Viral Pneumonia/032.jpeg  \n",
            "  inflating: /content/covid19-image-dataset/Covid19-dataset/train/Viral Pneumonia/033.jpeg  \n",
            "  inflating: /content/covid19-image-dataset/Covid19-dataset/train/Viral Pneumonia/034.jpeg  \n",
            "  inflating: /content/covid19-image-dataset/Covid19-dataset/train/Viral Pneumonia/035.jpeg  \n",
            "  inflating: /content/covid19-image-dataset/Covid19-dataset/train/Viral Pneumonia/036.jpeg  \n",
            "  inflating: /content/covid19-image-dataset/Covid19-dataset/train/Viral Pneumonia/037.jpeg  \n",
            "  inflating: /content/covid19-image-dataset/Covid19-dataset/train/Viral Pneumonia/038.jpeg  \n",
            "  inflating: /content/covid19-image-dataset/Covid19-dataset/train/Viral Pneumonia/04.jpeg  \n",
            "  inflating: /content/covid19-image-dataset/Covid19-dataset/train/Viral Pneumonia/041.jpeg  \n",
            "  inflating: /content/covid19-image-dataset/Covid19-dataset/train/Viral Pneumonia/042.jpeg  \n",
            "  inflating: /content/covid19-image-dataset/Covid19-dataset/train/Viral Pneumonia/043.jpeg  \n",
            "  inflating: /content/covid19-image-dataset/Covid19-dataset/train/Viral Pneumonia/044.jpeg  \n",
            "  inflating: /content/covid19-image-dataset/Covid19-dataset/train/Viral Pneumonia/045.jpeg  \n",
            "  inflating: /content/covid19-image-dataset/Covid19-dataset/train/Viral Pneumonia/046.jpeg  \n",
            "  inflating: /content/covid19-image-dataset/Covid19-dataset/train/Viral Pneumonia/047.jpeg  \n",
            "  inflating: /content/covid19-image-dataset/Covid19-dataset/train/Viral Pneumonia/048.jpeg  \n",
            "  inflating: /content/covid19-image-dataset/Covid19-dataset/train/Viral Pneumonia/05.jpeg  \n",
            "  inflating: /content/covid19-image-dataset/Covid19-dataset/train/Viral Pneumonia/051.jpeg  \n",
            "  inflating: /content/covid19-image-dataset/Covid19-dataset/train/Viral Pneumonia/052.jpeg  \n",
            "  inflating: /content/covid19-image-dataset/Covid19-dataset/train/Viral Pneumonia/053.jpeg  \n",
            "  inflating: /content/covid19-image-dataset/Covid19-dataset/train/Viral Pneumonia/054.jpeg  \n",
            "  inflating: /content/covid19-image-dataset/Covid19-dataset/train/Viral Pneumonia/055.jpeg  \n",
            "  inflating: /content/covid19-image-dataset/Covid19-dataset/train/Viral Pneumonia/056.jpeg  \n",
            "  inflating: /content/covid19-image-dataset/Covid19-dataset/train/Viral Pneumonia/057.jpeg  \n",
            "  inflating: /content/covid19-image-dataset/Covid19-dataset/train/Viral Pneumonia/058.jpeg  \n",
            "  inflating: /content/covid19-image-dataset/Covid19-dataset/train/Viral Pneumonia/06.jpeg  \n",
            "  inflating: /content/covid19-image-dataset/Covid19-dataset/train/Viral Pneumonia/061.jpeg  \n",
            "  inflating: /content/covid19-image-dataset/Covid19-dataset/train/Viral Pneumonia/062.jpeg  \n",
            "  inflating: /content/covid19-image-dataset/Covid19-dataset/train/Viral Pneumonia/063.jpeg  \n",
            "  inflating: /content/covid19-image-dataset/Covid19-dataset/train/Viral Pneumonia/064.jpeg  \n",
            "  inflating: /content/covid19-image-dataset/Covid19-dataset/train/Viral Pneumonia/065.jpeg  \n",
            "  inflating: /content/covid19-image-dataset/Covid19-dataset/train/Viral Pneumonia/066.jpeg  \n",
            "  inflating: /content/covid19-image-dataset/Covid19-dataset/train/Viral Pneumonia/067.jpeg  \n",
            "  inflating: /content/covid19-image-dataset/Covid19-dataset/train/Viral Pneumonia/068.jpeg  \n",
            "  inflating: /content/covid19-image-dataset/Covid19-dataset/train/Viral Pneumonia/07.jpeg  \n",
            "  inflating: /content/covid19-image-dataset/Covid19-dataset/train/Viral Pneumonia/071.jpeg  \n",
            "  inflating: /content/covid19-image-dataset/Covid19-dataset/train/Viral Pneumonia/072.jpeg  \n",
            "  inflating: /content/covid19-image-dataset/Covid19-dataset/train/Viral Pneumonia/073.jpeg  \n",
            "  inflating: /content/covid19-image-dataset/Covid19-dataset/train/Viral Pneumonia/074.jpeg  \n",
            "  inflating: /content/covid19-image-dataset/Covid19-dataset/train/Viral Pneumonia/075.jpeg  \n",
            "  inflating: /content/covid19-image-dataset/Covid19-dataset/train/Viral Pneumonia/076.jpeg  \n",
            "  inflating: /content/covid19-image-dataset/Covid19-dataset/train/Viral Pneumonia/077.jpeg  \n",
            "  inflating: /content/covid19-image-dataset/Covid19-dataset/train/Viral Pneumonia/078.jpeg  \n",
            "  inflating: /content/covid19-image-dataset/Covid19-dataset/train/Viral Pneumonia/08.jpeg  \n",
            "  inflating: /content/covid19-image-dataset/Covid19-dataset/train/Viral Pneumonia/081.jpeg  \n",
            "  inflating: /content/covid19-image-dataset/Covid19-dataset/train/Viral Pneumonia/082.jpeg  \n",
            "  inflating: /content/covid19-image-dataset/Covid19-dataset/train/Viral Pneumonia/083.jpeg  \n",
            "  inflating: /content/covid19-image-dataset/Covid19-dataset/train/Viral Pneumonia/084.jpeg  \n",
            "  inflating: /content/covid19-image-dataset/Covid19-dataset/train/Viral Pneumonia/09.jpeg  \n",
            "  inflating: /content/covid19-image-dataset/Covid19-dataset/train/Viral Pneumonia/094.jpeg  \n",
            "  inflating: /content/covid19-image-dataset/Covid19-dataset/train/Viral Pneumonia/095.jpeg  \n",
            "  inflating: /content/covid19-image-dataset/Covid19-dataset/train/Viral Pneumonia/096.jpeg  \n"
          ]
        }
      ]
    },
    {
      "cell_type": "markdown",
      "source": [
        "# ***DATA PREPROCESSİNG***"
      ],
      "metadata": {
        "id": "utRQT_7mEwFE"
      }
    },
    {
      "cell_type": "code",
      "source": [
        "train_directory=\"/content/covid19-image-dataset/Covid19-dataset/train\"\n",
        "validation_directory=\"/content/covid19-image-dataset/Covid19-dataset/test\"\n",
        "CLASS_NAMES=[\"Covid\",\"Normal\",\"Viral Pneumonia\"]\n",
        "\n",
        "CONFIGURATION={\n",
        "    \"IM_SIZE\":224,\n",
        "    \"BATCH_SIZE\":32,\n",
        "    \"N_DENSE1\":1024,\n",
        "    \"N_DENSE2\":128,\n",
        "    \"N_EPOCH\":10,\n",
        "    \"N_CLASSES\":3,\n",
        "}"
      ],
      "metadata": {
        "id": "d53EK0fDD_8K"
      },
      "execution_count": null,
      "outputs": []
    },
    {
      "cell_type": "code",
      "source": [
        "train_dataset = tf.keras.preprocessing.image_dataset_from_directory(\n",
        "    train_directory,\n",
        "    labels='inferred',\n",
        "    label_mode='categorical',\n",
        "    class_names=CLASS_NAMES,\n",
        "    color_mode='rgb',\n",
        "    batch_size=CONFIGURATION[\"BATCH_SIZE\"],\n",
        "    image_size=(CONFIGURATION[\"IM_SIZE\"],CONFIGURATION[\"IM_SIZE\"]),\n",
        "    shuffle=True,\n",
        "    seed=87,\n",
        ")"
      ],
      "metadata": {
        "colab": {
          "base_uri": "https://localhost:8080/"
        },
        "id": "laA11t58E72a",
        "outputId": "82723ea8-f0c0-4e41-f90c-2ec3dbfbb706"
      },
      "execution_count": null,
      "outputs": [
        {
          "output_type": "stream",
          "name": "stdout",
          "text": [
            "Found 251 files belonging to 3 classes.\n"
          ]
        }
      ]
    },
    {
      "cell_type": "code",
      "source": [
        "validation_dataset = tf.keras.preprocessing.image_dataset_from_directory(\n",
        "    validation_directory,\n",
        "    labels='inferred',\n",
        "    label_mode='categorical',\n",
        "    class_names=CLASS_NAMES,\n",
        "    color_mode='rgb',\n",
        "    batch_size=CONFIGURATION[\"BATCH_SIZE\"],\n",
        "    image_size=(CONFIGURATION[\"IM_SIZE\"],CONFIGURATION[\"IM_SIZE\"]),\n",
        "    shuffle=True,\n",
        "    seed=87,\n",
        ")"
      ],
      "metadata": {
        "colab": {
          "base_uri": "https://localhost:8080/"
        },
        "id": "oMUMQTvXF-pZ",
        "outputId": "28987d6c-c4fb-4d0d-8561-fe24f481a822"
      },
      "execution_count": null,
      "outputs": [
        {
          "output_type": "stream",
          "name": "stdout",
          "text": [
            "Found 66 files belonging to 3 classes.\n"
          ]
        }
      ]
    },
    {
      "cell_type": "markdown",
      "source": [
        "# **VISUALIZATION**"
      ],
      "metadata": {
        "id": "SldcQuJ6Gwny"
      }
    },
    {
      "cell_type": "code",
      "source": [
        "plt.figure(figsize=(10,10))\n",
        "for images,labels in train_dataset.take(1):\n",
        "  for i in range(16):\n",
        "    ax= plt.subplot(4,4,i+1)\n",
        "    plt.imshow(images[i]/255.)\n",
        "    plt.title(CLASS_NAMES[tf.argmax(labels[i], axis = 0).numpy()])\n",
        "    plt.axis(\"off\")"
      ],
      "metadata": {
        "id": "sOzABi52GyDD"
      },
      "execution_count": null,
      "outputs": []
    },
    {
      "cell_type": "markdown",
      "source": [
        "# ***MODEL***"
      ],
      "metadata": {
        "id": "Uf2_DO9rH5f-"
      }
    },
    {
      "cell_type": "code",
      "source": [
        "backbone = tf.keras.applications.EfficientNetB7(\n",
        "    include_top=False,\n",
        "    weights='imagenet',\n",
        "    input_shape=(CONFIGURATION[\"IM_SIZE\"],CONFIGURATION[\"IM_SIZE\"],3),\n",
        "    pooling=None,\n",
        "    classes=3,\n",
        "    classifier_activation='softmax',\n",
        ")"
      ],
      "metadata": {
        "id": "UdeaGPoRH3ao"
      },
      "execution_count": null,
      "outputs": []
    },
    {
      "cell_type": "code",
      "source": [
        "backbone.trainable = False"
      ],
      "metadata": {
        "id": "qMkL6KhMJG7O"
      },
      "execution_count": null,
      "outputs": []
    },
    {
      "cell_type": "code",
      "source": [
        "model= tf.keras.Sequential([\n",
        "    InputLayer(input_shape=(CONFIGURATION[\"IM_SIZE\"],CONFIGURATION[\"IM_SIZE\"],3)),\n",
        "    backbone,\n",
        "    tf.keras.layers.GlobalAveragePooling2D(),\n",
        "    tf.keras.layers.Dense(CONFIGURATION[\"N_DENSE1\"], activation='relu'),\n",
        "    BatchNormalization(),\n",
        "    tf.keras.layers.Dense(CONFIGURATION[\"N_DENSE2\"], activation='relu'),\n",
        "    tf.keras.layers.Dense(CONFIGURATION[\"N_CLASSES\"], activation='softmax')\n",
        "])\n",
        "model.summary()"
      ],
      "metadata": {
        "id": "2EXLmc8tJKV4"
      },
      "execution_count": null,
      "outputs": []
    },
    {
      "cell_type": "markdown",
      "source": [
        "# ***FINETUNING***"
      ],
      "metadata": {
        "id": "cd2wbwt7YJ4I"
      }
    },
    {
      "cell_type": "code",
      "source": [
        "backbone.trainable = True"
      ],
      "metadata": {
        "id": "C7XOYi51YL-v"
      },
      "execution_count": null,
      "outputs": []
    },
    {
      "cell_type": "code",
      "source": [
        "input = Input(shape = (CONFIGURATION[\"IM_SIZE\"], CONFIGURATION[\"IM_SIZE\"],3))\n",
        "\n",
        "x = backbone(input, training = False)\n",
        "x = GlobalAveragePooling2D()(x)\n",
        "x = Dense( CONFIGURATION[\"N_DENSE1\"], activation = \"relu\")(x)\n",
        "x = BatchNormalization()(x)\n",
        "x = Dense( CONFIGURATION[\"N_DENSE2\"], activation = \"relu\")(x)\n",
        "output = Dense( CONFIGURATION[\"N_CLASSES\"], activation = \"softmax\")(x)\n",
        "\n",
        "f_model = Model(input, output)\n",
        "f_model.summary()"
      ],
      "metadata": {
        "id": "aKhMTXjFYOna"
      },
      "execution_count": null,
      "outputs": []
    },
    {
      "cell_type": "markdown",
      "source": [
        "# ***TRAİNİNG***"
      ],
      "metadata": {
        "id": "H5vu776eLFL3"
      }
    },
    {
      "cell_type": "code",
      "source": [
        "callbacks= ModelCheckpoint(\n",
        "    \"best_weights\",\n",
        "    monitor='val_accuracy',\n",
        "    verbose=0,\n",
        "    save_best_only=True,\n",
        "\n",
        ")"
      ],
      "metadata": {
        "id": "yPaCOQT9LCrJ"
      },
      "execution_count": null,
      "outputs": []
    },
    {
      "cell_type": "code",
      "source": [
        "loss_function= CategoricalCrossentropy()\n",
        "metrics = [CategoricalAccuracy(name = \"accuracy\")]"
      ],
      "metadata": {
        "id": "1i46j5sjLugR"
      },
      "execution_count": null,
      "outputs": []
    },
    {
      "cell_type": "code",
      "source": [
        "f_model.compile(\n",
        "    optimizer=tf.keras.optimizers.Adam(learning_rate=0.001/100),\n",
        "    loss=loss_function,\n",
        "    metrics=metrics\n",
        ")"
      ],
      "metadata": {
        "id": "dlCHck_7L1zi"
      },
      "execution_count": null,
      "outputs": []
    },
    {
      "cell_type": "code",
      "source": [
        "history= f_model.fit(\n",
        "    train_dataset,\n",
        "    validation_data=validation_dataset,\n",
        "    epochs=CONFIGURATION[\"N_EPOCH\"],\n",
        "    verbose=1,\n",
        "    callbacks=[callbacks]\n",
        ")"
      ],
      "metadata": {
        "id": "hRnNUOfiMMGA"
      },
      "execution_count": null,
      "outputs": []
    },
    {
      "cell_type": "code",
      "source": [
        "plt.plot(history.history['loss'])\n",
        "plt.plot(history.history['val_loss'])\n",
        "plt.title('loss')\n",
        "plt.ylabel('loss')\n",
        "plt.xlabel('epochs')\n",
        "plt.legend(['train_loss','validation_loss'])\n",
        "plt.show()"
      ],
      "metadata": {
        "id": "qbicmqSBS5dI"
      },
      "execution_count": null,
      "outputs": []
    },
    {
      "cell_type": "code",
      "source": [
        "plt.plot(history.history['accuracy'])\n",
        "plt.plot(history.history['val_accuracy'])\n",
        "plt.title('Accuracy')\n",
        "plt.ylabel('acc')\n",
        "plt.xlabel('epochs')\n",
        "plt.legend(['train_acc','validation_acc'])\n",
        "plt.show()"
      ],
      "metadata": {
        "id": "EdnEQ4xvS8Kv"
      },
      "execution_count": null,
      "outputs": []
    },
    {
      "cell_type": "code",
      "source": [
        "f_model.load_weights('best_weights')"
      ],
      "metadata": {
        "id": "raeLEnnES_46"
      },
      "execution_count": null,
      "outputs": []
    },
    {
      "cell_type": "code",
      "source": [
        "f_model.evaluate(validation_dataset)"
      ],
      "metadata": {
        "id": "t6WBZOsyTDMU"
      },
      "execution_count": null,
      "outputs": []
    },
    {
      "cell_type": "markdown",
      "source": [
        "# ***TESTİNG***"
      ],
      "metadata": {
        "id": "6zkPxY3XSkTj"
      }
    },
    {
      "cell_type": "code",
      "source": [
        "plt.figure(figsize = (12,12))\n",
        "\n",
        "for images, labels in validation_dataset.take(1):\n",
        "  for i in range(16):\n",
        "    ax = plt.subplot(4,4, i+1)\n",
        "    plt.imshow(images[i]/255.)\n",
        "\n",
        "    plt.title(\"True Label - : \" + CLASS_NAMES[tf.argmax(labels[i], axis = -1).numpy()]\n",
        "              + \"\\n\" + \"Predicted Label - : \"\n",
        "              + CLASS_NAMES[int(tf.argmax(model(tf.expand_dims(images[i], axis = 0)), axis =-1).numpy()[0])] )\n",
        "    plt.axis(\"off\")"
      ],
      "metadata": {
        "id": "vOyCaOymSYrP"
      },
      "execution_count": null,
      "outputs": []
    },
    {
      "cell_type": "markdown",
      "source": [
        "# **CM**"
      ],
      "metadata": {
        "id": "2NzyA2ulTO0w"
      }
    },
    {
      "cell_type": "code",
      "source": [
        "labels=[]\n",
        "predicted=[]\n",
        "\n",
        "for im,label in validation_dataset:\n",
        "  predicted.append(model(im))\n",
        "  labels.append(label.numpy())"
      ],
      "metadata": {
        "id": "Ely8qnY5TP6e"
      },
      "execution_count": null,
      "outputs": []
    },
    {
      "cell_type": "code",
      "source": [
        "pred = np.concatenate([np.argmax(predicted[:-1], axis = -1).flatten(), np.argmax(predicted[-1], axis = -1).flatten()])\n",
        "lab = np.concatenate([np.argmax(labels[:-1], axis = -1).flatten(), np.argmax(labels[-1], axis = -1).flatten()])"
      ],
      "metadata": {
        "id": "W71h4HHsTjcJ"
      },
      "execution_count": null,
      "outputs": []
    },
    {
      "cell_type": "code",
      "source": [
        "cm= confusion_matrix(lab,pred)\n",
        "print(cm)\n",
        "plt.figure(figsize=(8,8))\n",
        "\n",
        "sns.heatmap(cm,annot=True)\n",
        "plt.ylabel(\"Actual\")\n",
        "plt.xlabel(\"Predicted\")\n",
        "plt.show()"
      ],
      "metadata": {
        "id": "6RB5fYXaTk2r"
      },
      "execution_count": null,
      "outputs": []
    },
    {
      "cell_type": "markdown",
      "source": [
        "\n",
        "# ***DATA AUGMENTATION***"
      ],
      "metadata": {
        "id": "w2zKrNkCULxB"
      }
    },
    {
      "cell_type": "code",
      "source": [
        "augment_layers= tf.keras.Sequential([\n",
        "    RandomFlip(mode='horizontal'),\n",
        "    RandomRotation(factor=(-0.025, 0.025)),\n",
        "    RandomContrast(factor=(0,1))\n",
        "])"
      ],
      "metadata": {
        "id": "797FiJS_UORf"
      },
      "execution_count": null,
      "outputs": []
    },
    {
      "cell_type": "code",
      "source": [
        "def augment_layer(image,label):\n",
        "  return augment_layers(image,training=True),label"
      ],
      "metadata": {
        "id": "grHOk4J6Udaw"
      },
      "execution_count": null,
      "outputs": []
    },
    {
      "cell_type": "code",
      "source": [
        "train_dataset=(\n",
        "    train_dataset\n",
        "    .map(augment_layer, num_parallel_calls=tf.data.AUTOTUNE)\n",
        "    .prefetch(tf.data.AUTOTUNE)\n",
        ")"
      ],
      "metadata": {
        "id": "iOHYh1WSUd7B"
      },
      "execution_count": null,
      "outputs": []
    },
    {
      "cell_type": "code",
      "source": [
        "validation_dataset=(\n",
        "    validation_dataset.prefetch(tf.data.AUTOTUNE)\n",
        ")"
      ],
      "metadata": {
        "id": "6WXVwU3NUfrJ"
      },
      "execution_count": null,
      "outputs": []
    }
  ]
}