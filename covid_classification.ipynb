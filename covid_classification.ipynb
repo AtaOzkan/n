{
  "nbformat": 4,
  "nbformat_minor": 0,
  "metadata": {
    "colab": {
      "provenance": [],
      "authorship_tag": "ABX9TyObILZbdDWJC98f5RTTteWx",
      "include_colab_link": true
    },
    "kernelspec": {
      "name": "python3",
      "display_name": "Python 3"
    },
    "language_info": {
      "name": "python"
    }
  },
  "cells": [
    {
      "cell_type": "markdown",
      "metadata": {
        "id": "view-in-github",
        "colab_type": "text"
      },
      "source": [
        "<a href=\"https://colab.research.google.com/github/AtaOzkan/n/blob/main/covid_classification.ipynb\" target=\"_parent\"><img src=\"https://colab.research.google.com/assets/colab-badge.svg\" alt=\"Open In Colab\"/></a>"
      ]
    },
    {
      "cell_type": "code",
      "source": [
        "import tensorflow as tf\n",
        "from tensorflow.keras import preprocessing\n",
        "import matplotlib.pyplot as plt\n",
        "import numpy as np\n",
        "import sklearn\n",
        "from sklearn.metrics import confusion_matrix, roc_curve\n",
        "import seaborn as sns\n",
        "\n",
        "from tensorflow.keras.applications import EfficientNetB7\n",
        "from tensorflow.keras.layers import Dense, GlobalAveragePooling2D, BatchNormalization, InputLayer, RandomRotation, RandomFlip, RandomContrast, Input\n",
        "from tensorflow.keras.models import Model,Sequential\n",
        "from tensorflow.keras.callbacks import ModelCheckpoint\n",
        "from tensorflow.keras.losses import CategoricalCrossentropy\n",
        "from tensorflow.keras.metrics import Accuracy, CategoricalAccuracy"
      ],
      "metadata": {
        "id": "MpwyvrugET22"
      },
      "execution_count": null,
      "outputs": []
    },
    {
      "cell_type": "markdown",
      "source": [
        "# ***DATASET DOWNLOADING***"
      ],
      "metadata": {
        "id": "wZBgBruTwZN8"
      }
    },
    {
      "cell_type": "code",
      "execution_count": null,
      "metadata": {
        "id": "7i7_VoZ4DO70"
      },
      "outputs": [],
      "source": [
        "!pip install -q kaggle"
      ]
    },
    {
      "cell_type": "code",
      "source": [
        "! mkdir ~/.kaggle\n",
        "! cp kaggle.json ~/.kaggle/"
      ],
      "metadata": {
        "id": "WiuEXEl3DXtX"
      },
      "execution_count": null,
      "outputs": []
    },
    {
      "cell_type": "code",
      "source": [
        "!chmod 600 /root/.kaggle/kaggle.json"
      ],
      "metadata": {
        "id": "GkdMNTkGDhpO"
      },
      "execution_count": null,
      "outputs": []
    },
    {
      "cell_type": "code",
      "source": [
        "!kaggle datasets download -d pranavraikokte/covid19-image-dataset"
      ],
      "metadata": {
        "id": "DmfOU2qZDiFw"
      },
      "execution_count": null,
      "outputs": []
    },
    {
      "cell_type": "code",
      "source": [
        "!unzip \"/content/covid19-image-dataset.zip\" -d \"/content/covid19-image-dataset\""
      ],
      "metadata": {
        "collapsed": true,
        "id": "P8mPwX9pDonT"
      },
      "execution_count": null,
      "outputs": []
    },
    {
      "cell_type": "markdown",
      "source": [
        "# ***DATA PREPROCESSİNG***"
      ],
      "metadata": {
        "id": "utRQT_7mEwFE"
      }
    },
    {
      "cell_type": "code",
      "source": [
        "train_directory=\"/content/covid19-image-dataset/Covid19-dataset/train\"\n",
        "validation_directory=\"/content/covid19-image-dataset/Covid19-dataset/test\"\n",
        "CLASS_NAMES=[\"Covid\",\"Normal\",\"Viral Pneumonia\"]\n",
        "\n",
        "CONFIGURATION={\n",
        "    \"IM_SIZE\":224,\n",
        "    \"BATCH_SIZE\":32,\n",
        "    \"N_DENSE1\":1024,\n",
        "    \"N_DENSE2\":128,\n",
        "    \"N_EPOCH\":10,\n",
        "    \"N_CLASSES\":3,\n",
        "}"
      ],
      "metadata": {
        "id": "d53EK0fDD_8K"
      },
      "execution_count": null,
      "outputs": []
    },
    {
      "cell_type": "code",
      "source": [
        "train_dataset = tf.keras.preprocessing.image_dataset_from_directory(\n",
        "    train_directory,\n",
        "    labels='inferred',\n",
        "    label_mode='categorical',\n",
        "    class_names=CLASS_NAMES,\n",
        "    color_mode='rgb',\n",
        "    batch_size=CONFIGURATION[\"BATCH_SIZE\"],\n",
        "    image_size=(CONFIGURATION[\"IM_SIZE\"],CONFIGURATION[\"IM_SIZE\"]),\n",
        "    shuffle=True,\n",
        "    seed=87,\n",
        ")"
      ],
      "metadata": {
        "colab": {
          "base_uri": "https://localhost:8080/"
        },
        "id": "laA11t58E72a",
        "outputId": "82723ea8-f0c0-4e41-f90c-2ec3dbfbb706"
      },
      "execution_count": null,
      "outputs": [
        {
          "output_type": "stream",
          "name": "stdout",
          "text": [
            "Found 251 files belonging to 3 classes.\n"
          ]
        }
      ]
    },
    {
      "cell_type": "code",
      "source": [
        "validation_dataset = tf.keras.preprocessing.image_dataset_from_directory(\n",
        "    validation_directory,\n",
        "    labels='inferred',\n",
        "    label_mode='categorical',\n",
        "    class_names=CLASS_NAMES,\n",
        "    color_mode='rgb',\n",
        "    batch_size=CONFIGURATION[\"BATCH_SIZE\"],\n",
        "    image_size=(CONFIGURATION[\"IM_SIZE\"],CONFIGURATION[\"IM_SIZE\"]),\n",
        "    shuffle=True,\n",
        "    seed=87,\n",
        ")"
      ],
      "metadata": {
        "colab": {
          "base_uri": "https://localhost:8080/"
        },
        "id": "oMUMQTvXF-pZ",
        "outputId": "28987d6c-c4fb-4d0d-8561-fe24f481a822"
      },
      "execution_count": null,
      "outputs": [
        {
          "output_type": "stream",
          "name": "stdout",
          "text": [
            "Found 66 files belonging to 3 classes.\n"
          ]
        }
      ]
    },
    {
      "cell_type": "markdown",
      "source": [
        "# **VISUALIZATION**"
      ],
      "metadata": {
        "id": "SldcQuJ6Gwny"
      }
    },
    {
      "cell_type": "code",
      "source": [
        "plt.figure(figsize=(10,10))\n",
        "for images,labels in train_dataset.take(1):\n",
        "  for i in range(16):\n",
        "    ax= plt.subplot(4,4,i+1)\n",
        "    plt.imshow(images[i]/255.)\n",
        "    plt.title(CLASS_NAMES[tf.argmax(labels[i], axis = 0).numpy()])\n",
        "    plt.axis(\"off\")"
      ],
      "metadata": {
        "id": "sOzABi52GyDD"
      },
      "execution_count": null,
      "outputs": []
    },
    {
      "cell_type": "markdown",
      "source": [
        "# ***MODEL***"
      ],
      "metadata": {
        "id": "Uf2_DO9rH5f-"
      }
    },
    {
      "cell_type": "code",
      "source": [
        "backbone = tf.keras.applications.EfficientNetB7(\n",
        "    include_top=False,\n",
        "    weights='imagenet',\n",
        "    input_shape=(CONFIGURATION[\"IM_SIZE\"],CONFIGURATION[\"IM_SIZE\"],3),\n",
        "    pooling=None,\n",
        "    classes=3,\n",
        "    classifier_activation='softmax',\n",
        ")"
      ],
      "metadata": {
        "id": "UdeaGPoRH3ao"
      },
      "execution_count": null,
      "outputs": []
    },
    {
      "cell_type": "code",
      "source": [
        "backbone.trainable = False"
      ],
      "metadata": {
        "id": "qMkL6KhMJG7O"
      },
      "execution_count": null,
      "outputs": []
    },
    {
      "cell_type": "code",
      "source": [
        "model= tf.keras.Sequential([\n",
        "    InputLayer(input_shape=(CONFIGURATION[\"IM_SIZE\"],CONFIGURATION[\"IM_SIZE\"],3)),\n",
        "    backbone,\n",
        "    tf.keras.layers.GlobalAveragePooling2D(),\n",
        "    tf.keras.layers.Dense(CONFIGURATION[\"N_DENSE1\"], activation='relu'),\n",
        "    BatchNormalization(),\n",
        "    tf.keras.layers.Dense(CONFIGURATION[\"N_DENSE2\"], activation='relu'),\n",
        "    tf.keras.layers.Dense(CONFIGURATION[\"N_CLASSES\"], activation='softmax')\n",
        "])\n",
        "model.summary()"
      ],
      "metadata": {
        "id": "2EXLmc8tJKV4"
      },
      "execution_count": null,
      "outputs": []
    },
    {
      "cell_type": "markdown",
      "source": [
        "# ***FINETUNING***"
      ],
      "metadata": {
        "id": "cd2wbwt7YJ4I"
      }
    },
    {
      "cell_type": "code",
      "source": [
        "backbone.trainable = True"
      ],
      "metadata": {
        "id": "C7XOYi51YL-v"
      },
      "execution_count": null,
      "outputs": []
    },
    {
      "cell_type": "code",
      "source": [
        "input = Input(shape = (CONFIGURATION[\"IM_SIZE\"], CONFIGURATION[\"IM_SIZE\"],3))\n",
        "\n",
        "x = backbone(input, training = False)\n",
        "x = GlobalAveragePooling2D()(x)\n",
        "x = Dense( CONFIGURATION[\"N_DENSE1\"], activation = \"relu\")(x)\n",
        "x = BatchNormalization()(x)\n",
        "x = Dense( CONFIGURATION[\"N_DENSE2\"], activation = \"relu\")(x)\n",
        "output = Dense( CONFIGURATION[\"N_CLASSES\"], activation = \"softmax\")(x)\n",
        "\n",
        "f_model = Model(input, output)\n",
        "f_model.summary()"
      ],
      "metadata": {
        "id": "aKhMTXjFYOna"
      },
      "execution_count": null,
      "outputs": []
    },
    {
      "cell_type": "markdown",
      "source": [
        "# ***TRAİNİNG***"
      ],
      "metadata": {
        "id": "H5vu776eLFL3"
      }
    },
    {
      "cell_type": "code",
      "source": [
        "callbacks= ModelCheckpoint(\n",
        "    \"best_weights\",\n",
        "    monitor='val_accuracy',\n",
        "    verbose=0,\n",
        "    save_best_only=True,\n",
        "\n",
        ")"
      ],
      "metadata": {
        "id": "yPaCOQT9LCrJ"
      },
      "execution_count": null,
      "outputs": []
    },
    {
      "cell_type": "code",
      "source": [
        "loss_function= CategoricalCrossentropy()\n",
        "metrics = [CategoricalAccuracy(name = \"accuracy\")]"
      ],
      "metadata": {
        "id": "1i46j5sjLugR"
      },
      "execution_count": null,
      "outputs": []
    },
    {
      "cell_type": "code",
      "source": [
        "f_model.compile(\n",
        "    optimizer=tf.keras.optimizers.Adam(learning_rate=0.001/100),\n",
        "    loss=loss_function,\n",
        "    metrics=metrics\n",
        ")"
      ],
      "metadata": {
        "id": "dlCHck_7L1zi"
      },
      "execution_count": null,
      "outputs": []
    },
    {
      "cell_type": "code",
      "source": [
        "history= f_model.fit(\n",
        "    train_dataset,\n",
        "    validation_data=validation_dataset,\n",
        "    epochs=CONFIGURATION[\"N_EPOCH\"],\n",
        "    verbose=1,\n",
        "    callbacks=[callbacks]\n",
        ")"
      ],
      "metadata": {
        "id": "hRnNUOfiMMGA"
      },
      "execution_count": null,
      "outputs": []
    },
    {
      "cell_type": "code",
      "source": [
        "plt.plot(history.history['loss'])\n",
        "plt.plot(history.history['val_loss'])\n",
        "plt.title('loss')\n",
        "plt.ylabel('loss')\n",
        "plt.xlabel('epochs')\n",
        "plt.legend(['train_loss','validation_loss'])\n",
        "plt.show()"
      ],
      "metadata": {
        "id": "qbicmqSBS5dI"
      },
      "execution_count": null,
      "outputs": []
    },
    {
      "cell_type": "code",
      "source": [
        "plt.plot(history.history['accuracy'])\n",
        "plt.plot(history.history['val_accuracy'])\n",
        "plt.title('Accuracy')\n",
        "plt.ylabel('acc')\n",
        "plt.xlabel('epochs')\n",
        "plt.legend(['train_acc','validation_acc'])\n",
        "plt.show()"
      ],
      "metadata": {
        "id": "EdnEQ4xvS8Kv"
      },
      "execution_count": null,
      "outputs": []
    },
    {
      "cell_type": "code",
      "source": [
        "f_model.load_weights('best_weights')"
      ],
      "metadata": {
        "id": "raeLEnnES_46"
      },
      "execution_count": null,
      "outputs": []
    },
    {
      "cell_type": "code",
      "source": [
        "f_model.evaluate(validation_dataset)"
      ],
      "metadata": {
        "id": "t6WBZOsyTDMU"
      },
      "execution_count": null,
      "outputs": []
    },
    {
      "cell_type": "markdown",
      "source": [
        "# ***TESTİNG***"
      ],
      "metadata": {
        "id": "6zkPxY3XSkTj"
      }
    },
    {
      "cell_type": "code",
      "source": [
        "plt.figure(figsize = (12,12))\n",
        "\n",
        "for images, labels in validation_dataset.take(1):\n",
        "  for i in range(16):\n",
        "    ax = plt.subplot(4,4, i+1)\n",
        "    plt.imshow(images[i]/255.)\n",
        "\n",
        "    plt.title(\"True Label - : \" + CLASS_NAMES[tf.argmax(labels[i], axis = -1).numpy()]\n",
        "              + \"\\n\" + \"Predicted Label - : \"\n",
        "              + CLASS_NAMES[int(tf.argmax(model(tf.expand_dims(images[i], axis = 0)), axis =-1).numpy()[0])] )\n",
        "    plt.axis(\"off\")"
      ],
      "metadata": {
        "id": "vOyCaOymSYrP"
      },
      "execution_count": null,
      "outputs": []
    },
    {
      "cell_type": "markdown",
      "source": [
        "# **CM**"
      ],
      "metadata": {
        "id": "2NzyA2ulTO0w"
      }
    },
    {
      "cell_type": "code",
      "source": [
        "labels=[]\n",
        "predicted=[]\n",
        "\n",
        "for im,label in validation_dataset:\n",
        "  predicted.append(model(im))\n",
        "  labels.append(label.numpy())"
      ],
      "metadata": {
        "id": "Ely8qnY5TP6e"
      },
      "execution_count": null,
      "outputs": []
    },
    {
      "cell_type": "code",
      "source": [
        "pred = np.concatenate([np.argmax(predicted[:-1], axis = -1).flatten(), np.argmax(predicted[-1], axis = -1).flatten()])\n",
        "lab = np.concatenate([np.argmax(labels[:-1], axis = -1).flatten(), np.argmax(labels[-1], axis = -1).flatten()])"
      ],
      "metadata": {
        "id": "W71h4HHsTjcJ"
      },
      "execution_count": null,
      "outputs": []
    },
    {
      "cell_type": "code",
      "source": [
        "cm= confusion_matrix(lab,pred)\n",
        "print(cm)\n",
        "plt.figure(figsize=(8,8))\n",
        "\n",
        "sns.heatmap(cm,annot=True)\n",
        "plt.ylabel(\"Actual\")\n",
        "plt.xlabel(\"Predicted\")\n",
        "plt.show()"
      ],
      "metadata": {
        "id": "6RB5fYXaTk2r"
      },
      "execution_count": null,
      "outputs": []
    },
    {
      "cell_type": "markdown",
      "source": [
        "\n",
        "# ***DATA AUGMENTATION***"
      ],
      "metadata": {
        "id": "w2zKrNkCULxB"
      }
    },
    {
      "cell_type": "code",
      "source": [
        "augment_layers= tf.keras.Sequential([\n",
        "    RandomFlip(mode='horizontal'),\n",
        "    RandomRotation(factor=(-0.025, 0.025)),\n",
        "    RandomContrast(factor=(0,1))\n",
        "])"
      ],
      "metadata": {
        "id": "797FiJS_UORf"
      },
      "execution_count": null,
      "outputs": []
    },
    {
      "cell_type": "code",
      "source": [
        "def augment_layer(image,label):\n",
        "  return augment_layers(image,training=True),label"
      ],
      "metadata": {
        "id": "grHOk4J6Udaw"
      },
      "execution_count": null,
      "outputs": []
    },
    {
      "cell_type": "code",
      "source": [
        "train_dataset=(\n",
        "    train_dataset\n",
        "    .map(augment_layer, num_parallel_calls=tf.data.AUTOTUNE)\n",
        "    .prefetch(tf.data.AUTOTUNE)\n",
        ")"
      ],
      "metadata": {
        "id": "iOHYh1WSUd7B"
      },
      "execution_count": null,
      "outputs": []
    },
    {
      "cell_type": "code",
      "source": [
        "validation_dataset=(\n",
        "    validation_dataset.prefetch(tf.data.AUTOTUNE)\n",
        ")"
      ],
      "metadata": {
        "id": "6WXVwU3NUfrJ"
      },
      "execution_count": null,
      "outputs": []
    }
  ]
}